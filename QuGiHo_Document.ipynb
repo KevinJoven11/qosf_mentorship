{
 "cells": [
  {
   "attachments": {},
   "cell_type": "markdown",
   "metadata": {},
   "source": [
    "# QOSF Mentorship Program Application Cohort 7\n",
    "This project is the screaning task to apply to the QOSF mentorship program. (LINK)  \n",
    "The task choosed was the Task 4 - Random Circuits.  \n",
    "\n",
    "Here is the problem description:  \n",
    "\n",
    "I worked on Qiskit (LINK) but if you follow the same concept and framework present here you can generalize to others programing languages.  "
   ]
  },
  {
   "cell_type": "code",
   "execution_count": 14,
   "metadata": {},
   "outputs": [],
   "source": [
    "# First we import the required libraries.\n",
    "import qiskit\n",
    "from qiskit import QuantumCircuit, Aer\n",
    "import numpy as np\n",
    "import matplotlib.pyplot as plt"
   ]
  },
  {
   "cell_type": "code",
   "execution_count": 206,
   "metadata": {},
   "outputs": [],
   "source": [
    "def choose_gates(quantum_circuit : qiskit.QuantumCircuit,\n",
    "                  position : int, gates_set : list):\n",
    "    \"\"\"A function that choose the quantum gates given a specific gates set.\n",
    "\n",
    "    Args:\n",
    "        QuantumCircuit (qiskit.QuantumCircuit): The quantum circuit.\n",
    "        position (int): initial position to put the quantum gate.\n",
    "        gates_set (string list): list of standart quantum gates. \n",
    "        num_qubits (int): number of qubits.\n",
    "\n",
    "    Returns:\n",
    "        next_position (int): position for the next gate.\n",
    "    \n",
    "    \"\"\"\n",
    "    next_position = position                # specify the actual position.\n",
    "    num_qubits = quantum_circuit.num_qubits # Number of qubits\n",
    "\n",
    "    ran = np.random.randint(len(gates_set))  # define a random number to \n",
    "                                            # select from the gates_set\n",
    "\n",
    "    if gates_set[ran] == \"H\":               # Is a Hadamard gate?\n",
    "        quantum_circuit.h(position)         # Add the Hadamard gate to the quantum circuit.\n",
    "        next_position += 1                  # increase the next position by 1\n",
    "    elif gates_set[ran] == \"RX\":\n",
    "        quantum_circuit.rx(np.pi/2, position)\n",
    "        next_position += 1\n",
    "    elif gates_set[ran] == \"CNOT\":          # Is a CNOT gate?\n",
    "        if position+1 == num_qubits:        # Are we in the last qubit (no space for CNOT)?\n",
    "            next_position += 1              # Apply identity.\n",
    "        else:\n",
    "            quantum_circuit.cnot(position, position+1)\n",
    "            next_position += 2              # increase the next position by 2 (two qubit gate)\n",
    "    elif gates_set[ran] == \"RY\":\n",
    "        quantum_circuit.ry(np.pi/2, position)\n",
    "        next_position += 1\n",
    "    elif gates_set[ran] == \"RZ\":\n",
    "        quantum_circuit.rz(np.pi/2, position)\n",
    "        next_position += 1\n",
    "    elif gates_set[ran] == \"I\":\n",
    "        next_position += 1\n",
    "\n",
    "    return next_position                    # return the next position for the next qubit."
   ]
  },
  {
   "cell_type": "code",
   "execution_count": 210,
   "metadata": {},
   "outputs": [],
   "source": [
    "def layer(quantum_circuit : qiskit.QuantumCircuit, gates_set : list, proportion : float):\n",
    "    \"\"\" A function that create a layer of quantum random gates.\n",
    "\n",
    "    Args:\n",
    "        QuantumCircuit (qiskit.QuantumCircuit): The quantum circuit.\n",
    "        gates_set (string list): list of standart quantum gates. \n",
    "        proportion (float): density of identity gates with respect the others gates. ( >= 0 , < 1 )\n",
    "    \n",
    "    Returns:\n",
    "        QuantumCircuit.depth() (int): quantum circuit currently depth.\n",
    "        \n",
    "    \"\"\"\n",
    "\n",
    "    actual_gates_set = gates_set.copy()\n",
    "    actual_proportion = 0.0\n",
    "    identity_gates = 0\n",
    "    num_qubits = quantum_circuit.num_qubits\n",
    "\n",
    "    while actual_proportion < proportion:\n",
    "        actual_gates_set.append(\"I\")\n",
    "        identity_gates += 1\n",
    "        actual_proportion = identity_gates/len(actual_gates_set)\n",
    "\n",
    "    actual_proportion = 0.0\n",
    "    position = 0\n",
    "\n",
    "    while(position < num_qubits):\n",
    "        position = choose_gates(quantum_circuit, position, actual_gates_set)\n",
    "    quantum_circuit.barrier()\n",
    "\n",
    "    return quantum_circuit.depth()"
   ]
  },
  {
   "cell_type": "code",
   "execution_count": 211,
   "metadata": {},
   "outputs": [],
   "source": [
    "def random_circuit(qubits : int, depth : int, gates_set : list, proportion : float):\n",
    "    \"\"\" A function that creates a random quantum circuit.\n",
    "\n",
    "    Args: \n",
    "        qubits (int) : number of qubits.\n",
    "        depth (int) : the desire depth of the circuit.\n",
    "        gates_set (string list): list of standart quantum gates.\n",
    "        proportion (float): density of identity gates with respect the others gates. ( >= 0 , < 1 )\n",
    "    \n",
    "        Returns:\n",
    "        quantum_circuit (qiskit.QuantumCircuit) : the random quantum circuit.\n",
    "\n",
    "    \"\"\"\n",
    "\n",
    "    quantum_circuit = QuantumCircuit(qubits)\n",
    "\n",
    "    actual_depth = 0\n",
    "\n",
    "    while (actual_depth < depth):\n",
    "        actual_depth = layer(quantum_circuit, gates_set, proportion)\n",
    "\n",
    "    return quantum_circuit"
   ]
  },
  {
   "cell_type": "code",
   "execution_count": 221,
   "metadata": {},
   "outputs": [
    {
     "name": "stdout",
     "output_type": "stream",
     "text": [
      "Random circuit depth: 7\n"
     ]
    },
    {
     "data": {
      "image/png": "[encoded data removed]",
      "text/plain": [
       "<Figure size 929.397x505.68 with 1 Axes>"
      ]
     },
     "execution_count": 221,
     "metadata": {},
     "output_type": "execute_result"
    }
   ],
   "source": [
    "num_qubits = 8\n",
    "circuit_depth = 7\n",
    "gates_set = [\"H\",\"CNOT\",\"RX\",\"RY\",\"RZ\"]\n",
    "proportion = 0.5\n",
    "\n",
    "circuit = random_circuit(num_qubits, circuit_depth, gates_set, proportion)\n",
    "print(\"Random circuit depth: {}\".format(circuit.depth()))\n",
    "circuit.draw('mpl')"
   ]
  },
  {
   "cell_type": "code",
   "execution_count": null,
   "metadata": {},
   "outputs": [],
   "source": []
  },
  {
   "cell_type": "code",
   "execution_count": null,
   "metadata": {},
   "outputs": [],
   "source": []
  }
 ],
 "metadata": {
  "kernelspec": {
   "display_name": "Python 3",
   "language": "python",
   "name": "python3"
  },
  "language_info": {
   "codemirror_mode": {
    "name": "ipython",
    "version": 3
   },
   "file_extension": ".py",
   "mimetype": "text/x-python",
   "name": "python",
   "nbconvert_exporter": "python",
   "pygments_lexer": "ipython3",
   "version": "3.9.5"
  },
  "orig_nbformat": 4,
  "vscode": {
   "interpreter": {
    "hash": "b692c5112b84cb0f0146006066a71ec03118a3195a234c45307942b05862c083"
   }
  }
 },
 "nbformat": 4,
 "nbformat_minor": 2
}
