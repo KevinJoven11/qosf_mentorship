{
 "cells": [
  {
   "attachments": {},
   "cell_type": "markdown",
   "metadata": {},
   "source": [
    "# QOSF Mentorship Program Application Cohort 7\n",
    "This project is the screaning task to apply to the QOSF mentorship program. (LINK)  \n",
    "The task choosed was the Task 4 - Random Circuits.  \n",
    "\n",
    "Here is the problem description:  \n",
    "\n",
    "I worked on Qiskit (LINK) but if you follow the same concept and framework present here you can generalize to others programing languages.  \n",
    "\n",
    "This is the approache:  \n",
    "\n",
    "Image test:\n",
    "\n",
    "<img src="images/diagram2.png" width="800" />"
   ]
  },
  {
   "cell_type": "code",
   "execution_count": 4,
   "metadata": {},
   "outputs": [],
   "source": [
    "# First we import the required libraries.\n",
    "import qiskit\n",
    "from qiskit import QuantumCircuit, Aer\n",
    "import numpy as np\n",
    "import matplotlib.pyplot as plt"
   ]
  },
  {
   "cell_type": "code",
   "execution_count": 24,
   "metadata": {},
   "outputs": [],
   "source": [
    "def traslation_super(qc, position, gate):\n",
    "\n",
    "    if gate == \"H\":\n",
    "        qc.u(np.pi/2, 0, np.pi, position)\n",
    "    elif gate == \"X\":\n",
    "        qc.u(0,-np.pi/2,np.pi/2, position)\n",
    "    elif gate == \"Y\":\n",
    "        qc.u(np.pi,np.pi/2,np.pi/2, position)\n",
    "    elif gate == \"Z\":\n",
    "        qc.u(0, 0, np.pi, position)\n",
    "    elif gate == \"CNOT\":\n",
    "        qc.cnot(position, position+1)\n",
    "\n",
    "    return qc\n",
    "\n",
    "def translation_standard(qc, position, gate):\n",
    "\n",
    "    if gate == \"H\":\n",
    "        qc.h(position)\n",
    "    elif gate == \"X\":\n",
    "        qc.x(position)\n",
    "    elif gate == \"Y\":\n",
    "        qc.y(position)\n",
    "    elif gate == \"Z\":\n",
    "        qc.z(position)\n",
    "    elif gate == \"CNOT\":\n",
    "        qc.cnot(position, position+1)\n",
    "\n",
    "    return qc\n",
    "\n",
    "def traslation_gates(qc, position, gate, architecture):\n",
    "\n",
    "    if architecture == \"super\":\n",
    "        return traslation_super(qc, position, gate)\n",
    "    elif architecture == \"standard\":\n",
    "        return translation_standard(qc, position, gate)"
   ]
  },
  {
   "cell_type": "code",
   "execution_count": 29,
   "metadata": {},
   "outputs": [],
   "source": [
    "def choose_gates(quantum_circuit : qiskit.QuantumCircuit,\n",
    "                  position : int, gates_set : list):\n",
    "    \"\"\"A function that choose the quantum gates given a specific gates set.\n",
    "\n",
    "    Args:\n",
    "        QuantumCircuit (qiskit.QuantumCircuit): The quantum circuit.\n",
    "        position (int): initial position to put the quantum gate.\n",
    "        gates_set (string list): list of standart quantum gates. \n",
    "        num_qubits (int): number of qubits.\n",
    "\n",
    "    Returns:\n",
    "        next_position (int): position for the next gate.\n",
    "    \n",
    "    \"\"\"\n",
    "    next_position = position                # specify the actual position.\n",
    "    num_qubits = quantum_circuit.num_qubits # Number of qubits\n",
    "\n",
    "    ran = np.random.randint(len(gates_set))  # define a random number to \n",
    "                                            # select from the gates_set\n",
    "\n",
    "#################\n",
    "\n",
    "    architecture = \"super\"\n",
    "\n",
    "#################\n",
    "    if gates_set[ran] == \"H\":               # Is a Hadamard gate?\n",
    "        traslation_gates(quantum_circuit, position, gates_set[ran], architecture)\n",
    "        #quantum_circuit.h(position)         # Add the Hadamard gate to the quantum circuit. ###### CALLL TRASLATION.\n",
    "        #next_position += 1                  # increase the next position by 1\n",
    "    elif gates_set[ran] == \"X\":\n",
    "        quantum_circuit.rx(np.pi/2, position)\n",
    "        next_position += 1\n",
    "    elif gates_set[ran] == \"CNOT\":          # Is a CNOT gate?                               ###### CALL COUPLING MAP\n",
    "        if position+1 == num_qubits:        # Are we in the last qubit (no space for CNOT)?\n",
    "            next_position += 1              # Apply identity.\n",
    "        else:\n",
    "            quantum_circuit.cnot(position, position+1)\n",
    "            next_position += 2              # increase the next position by 2 (two qubit gate)\n",
    "    elif gates_set[ran] == \"Y\":\n",
    "        quantum_circuit.ry(np.pi/2, position)\n",
    "        next_position += 1\n",
    "    elif gates_set[ran] == \"Z\":\n",
    "        quantum_circuit.rz(np.pi/2, position)\n",
    "        next_position += 1\n",
    "    elif gates_set[ran] == \"I\":\n",
    "        next_position += 1\n",
    "\n",
    "    return next_position                    # return the next position for the next qubit."
   ]
  },
  {
   "cell_type": "code",
   "execution_count": 30,
   "metadata": {},
   "outputs": [],
   "source": [
    "def layer(quantum_circuit : qiskit.QuantumCircuit, gates_set : list, proportion : float):\n",
    "    \"\"\" A function that create a layer of quantum random gates.\n",
    "\n",
    "    Args:\n",
    "        QuantumCircuit (qiskit.QuantumCircuit): The quantum circuit.\n",
    "        gates_set (string list): list of standart quantum gates. \n",
    "        proportion (float): density of identity gates with respect the others gates. ( >= 0 , < 1 )\n",
    "    \n",
    "    Returns:\n",
    "        QuantumCircuit.depth() (int): quantum circuit currently depth.\n",
    "        \n",
    "    \"\"\"\n",
    "\n",
    "    actual_gates_set = gates_set.copy()\n",
    "    actual_proportion = 0.0\n",
    "    identity_gates = 0\n",
    "    num_qubits = quantum_circuit.num_qubits\n",
    "\n",
    "    while actual_proportion < proportion:\n",
    "        actual_gates_set.append(\"I\")\n",
    "        identity_gates += 1\n",
    "        actual_proportion = identity_gates/len(actual_gates_set)\n",
    "\n",
    "    actual_proportion = 0.0\n",
    "    position = 0\n",
    "\n",
    "    while(position < num_qubits):\n",
    "        position = choose_gates(quantum_circuit, position, actual_gates_set)\n",
    "    quantum_circuit.barrier()\n",
    "\n",
    "    return quantum_circuit.depth()"
   ]
  },
  {
   "cell_type": "code",
   "execution_count": 31,
   "metadata": {},
   "outputs": [],
   "source": [
    "def random_circuit(qubits : int, depth : int, gates_set : list, proportion : float):\n",
    "    \"\"\" A function that creates a random quantum circuit.\n",
    "\n",
    "    Args: \n",
    "        qubits (int) : number of qubits.\n",
    "        depth (int) : the desire depth of the circuit.\n",
    "        gates_set (string list): list of standart quantum gates.\n",
    "        proportion (float): density of identity gates with respect the others gates. ( >= 0 , < 1 )\n",
    "    \n",
    "        Returns:\n",
    "        quantum_circuit (qiskit.QuantumCircuit) : the random quantum circuit.\n",
    "\n",
    "    \"\"\"\n",
    "\n",
    "    quantum_circuit = QuantumCircuit(qubits)\n",
    "\n",
    "    actual_depth = 0\n",
    "\n",
    "    while (actual_depth < depth):\n",
    "        actual_depth = layer(quantum_circuit, gates_set, proportion)\n",
    "\n",
    "    return quantum_circuit"
   ]
  },
  {
   "cell_type": "code",
   "execution_count": 32,
   "metadata": {},
   "outputs": [
    {
     "name": "stdout",
     "output_type": "stream",
     "text": [
      "Random circuit depth: 8\n"
     ]
    },
    {
     "data": {
      "image/png": "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",
      "text/plain": [
       "<Figure size 989.597x505.68 with 1 Axes>"
      ]
     },
     "execution_count": 32,
     "metadata": {},
     "output_type": "execute_result"
    }
   ],
   "source": [
    "num_qubits = 8\n",
    "circuit_depth = 7\n",
    "gates_set = [\"H\",\"CNOT\",\"X\",\"Y\",\"Z\"]\n",
    "proportion = 0.5\n",
    "\n",
    "circuit = random_circuit(num_qubits, circuit_depth, gates_set, proportion)\n",
    "print(\"Random circuit depth: {}\".format(circuit.depth()))\n",
    "circuit.draw('mpl')"
   ]
  },
  {
   "cell_type": "code",
   "execution_count": null,
   "metadata": {},
   "outputs": [],
   "source": []
  },
  {
   "cell_type": "code",
   "execution_count": 15,
   "metadata": {},
   "outputs": [],
   "source": []
  },
  {
   "cell_type": "code",
   "execution_count": null,
   "metadata": {},
   "outputs": [],
   "source": []
  },
  {
   "cell_type": "code",
   "execution_count": null,
   "metadata": {},
   "outputs": [],
   "source": []
  },
  {
   "cell_type": "code",
   "execution_count": 7,
   "metadata": {},
   "outputs": [
    {
     "data": {
      "text/html": [
       "<pre style=\"word-wrap: normal;white-space: pre;background: #fff0;line-height: 1.1;font-family: &quot;Courier New&quot;,Courier,monospace\">     ┌───┐┌───┐┌───┐\n",
       "q_0: ┤ H ├┤ X ├┤ Z ├\n",
       "     └───┘└───┘└───┘\n",
       "q_1: ───────────────\n",
       "                    \n",
       "q_2: ───────────────\n",
       "                    \n",
       "q_3: ───────────────\n",
       "                    </pre>"
      ],
      "text/plain": [
       "     ┌───┐┌───┐┌───┐\n",
       "q_0: ┤ H ├┤ X ├┤ Z ├\n",
       "     └───┘└───┘└───┘\n",
       "q_1: ───────────────\n",
       "                    \n",
       "q_2: ───────────────\n",
       "                    \n",
       "q_3: ───────────────\n",
       "                    "
      ]
     },
     "execution_count": 7,
     "metadata": {},
     "output_type": "execute_result"
    }
   ],
   "source": [
    "qc = QuantumCircuit(4)\n",
    "\n",
    "traslation(qc, 0, 0, \"super\")\n",
    "\n",
    "qc.draw()"
   ]
  },
  {
   "cell_type": "code",
   "execution_count": null,
   "metadata": {},
   "outputs": [],
   "source": [
    "# super gates: U1,U2,U3 and CNOT gates"
   ]
  },
  {
   "cell_type": "code",
   "execution_count": null,
   "metadata": {},
   "outputs": [],
   "source": [
    "# Gates for the random process:\n",
    "# H, X, Y, Z, RX, RY, RZ, S, T, CNOT"
   ]
  },
  {
   "cell_type": "code",
   "execution_count": 9,
   "metadata": {},
   "outputs": [],
   "source": [
    "def u3(theta, lamb, phi):\n",
    "    return np.array([[np.cos(theta/2), -np.exp(1j*lamb)*np.sin(theta/2)],[np.exp(1j*phi)*np.sin(theta/2), np.exp(1j*(phi+lamb))*np.cos(theta/2)]])"
   ]
  },
  {
   "cell_type": "code",
   "execution_count": 22,
   "metadata": {},
   "outputs": [
    {
     "data": {
      "text/plain": [
       "array([[ 1.+0.j, -0.+0.j],\n",
       "       [ 0.+0.j,  1.+0.j]])"
      ]
     },
     "execution_count": 22,
     "metadata": {},
     "output_type": "execute_result"
    }
   ],
   "source": [
    "u3(0,-np.pi/2,np.pi/2)"
   ]
  },
  {
   "cell_type": "code",
   "execution_count": 21,
   "metadata": {},
   "outputs": [
    {
     "data": {
      "text/html": [
       "<pre style=\"word-wrap: normal;white-space: pre;background: #fff0;line-height: 1.1;font-family: &quot;Courier New&quot;,Courier,monospace\">   ┌──────────┐\n",
       "q: ┤ U(0,0,0) ├\n",
       "   └──────────┘</pre>"
      ],
      "text/plain": [
       "   ┌──────────┐\n",
       "q: ┤ U(0,0,0) ├\n",
       "   └──────────┘"
      ]
     },
     "execution_count": 21,
     "metadata": {},
     "output_type": "execute_result"
    }
   ],
   "source": [
    "circuit = QuantumCircuit(1)\n",
    "circuit.u(0, 0, 0, 0)\n",
    "\n",
    "circuit.draw()"
   ]
  },
  {
   "cell_type": "code",
   "execution_count": null,
   "metadata": {},
   "outputs": [],
   "source": []
  }
 ],
 "metadata": {
  "kernelspec": {
   "display_name": "Python 3",
   "language": "python",
   "name": "python3"
  },
  "language_info": {
   "codemirror_mode": {
    "name": "ipython",
    "version": 3
   },
   "file_extension": ".py",
   "mimetype": "text/x-python",
   "name": "python",
   "nbconvert_exporter": "python",
   "pygments_lexer": "ipython3",
   "version": "3.9.5"
  },
  "orig_nbformat": 4,
  "vscode": {
   "interpreter": {
    "hash": "b692c5112b84cb0f0146006066a71ec03118a3195a234c45307942b05862c083"
   }
  }
 },
 "nbformat": 4,
 "nbformat_minor": 2
}
